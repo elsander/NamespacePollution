{
 "cells": [
  {
   "cell_type": "code",
   "execution_count": 1,
   "metadata": {
    "collapsed": false
   },
   "outputs": [],
   "source": [
    "from bs4 import BeautifulSoup\n",
    "import os\n",
    "import glob"
   ]
  },
  {
   "cell_type": "code",
   "execution_count": null,
   "metadata": {
    "collapsed": false
   },
   "outputs": [
    {
     "name": "stdout",
     "output_type": "stream",
     "text": [
      "0 bitrugs\n",
      "100 SensitivityCaseControl\n",
      "200 msgps\n",
      "300 ABHgenotypeR\n",
      "400 signmedian.test\n",
      "500 SMC\n",
      "600 vembedr\n",
      "700 SurvRegCensCov\n",
      "800"
     ]
    }
   ],
   "source": [
    "i = 0\n",
    "with open(\"all_packages_metadata.csv\", \"w\") as fo:\n",
    "    fo.write(\";\".join([\"Package\", \n",
    "                          \"Version:\",\n",
    "                          'Depends:',\n",
    "                          'Imports:',\n",
    "                          'Published:',\n",
    "                          'Author:',\n",
    "                          'Maintainer:',\n",
    "                          'License:']) + \"\\n\")\n",
    "    for myfile in glob.glob(\"raw_html/*.html\"):\n",
    "        with open(myfile) as f:\n",
    "            html = f.read()\n",
    "        html = BeautifulSoup(html, \"lxml\")\n",
    "        table = html.find_all('table')[0]\n",
    "        values = ['NA'] * 8\n",
    "        values[0] = os.path.basename(myfile)[:-5]\n",
    "        for row in table.find_all('tr'):\n",
    "            columns = row.find_all('td')\n",
    "            tmp = []\n",
    "            for column in columns:\n",
    "                tmp.append(column.get_text().replace(\"\\n\", \" \").replace(\";\", \",\").replace('\"',\"\"))\n",
    "            if tmp[0] == \"Version:\":\n",
    "                values[1] = tmp[1]\n",
    "            elif tmp[0] == \"Depends:\":\n",
    "                values[2] = tmp[1]\n",
    "            elif tmp[0] == \"Imports:\":\n",
    "                values[3] = tmp[1]\n",
    "            elif tmp[0] == \"Published:\":\n",
    "                values[4] = tmp[1]\n",
    "            elif tmp[0] == \"Author:\":\n",
    "                values[5] = tmp[1]\n",
    "            elif tmp[0] == \"Maintainer:\":\n",
    "                values[6] = tmp[1]\n",
    "            elif tmp[0] == \"License:\":\n",
    "                values[7] = tmp[1]\n",
    "        fo.write(\";\".join(values) + \"\\n\")\n",
    "        if i % 100 == 0:\n",
    "            print(i, values[0])\n",
    "        i = i + 1"
   ]
  },
  {
   "cell_type": "code",
   "execution_count": null,
   "metadata": {
    "collapsed": true
   },
   "outputs": [],
   "source": []
  }
 ],
 "metadata": {
  "kernelspec": {
   "display_name": "Python 3",
   "language": "python",
   "name": "python3"
  },
  "language_info": {
   "codemirror_mode": {
    "name": "ipython",
    "version": 3
   },
   "file_extension": ".py",
   "mimetype": "text/x-python",
   "name": "python",
   "nbconvert_exporter": "python",
   "pygments_lexer": "ipython3",
   "version": "3.5.3"
  }
 },
 "nbformat": 4,
 "nbformat_minor": 0
}
