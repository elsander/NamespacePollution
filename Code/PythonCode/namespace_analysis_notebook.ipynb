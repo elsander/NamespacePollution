{
 "cells": [
  {
   "cell_type": "code",
   "execution_count": 19,
   "metadata": {
    "autoscroll": "json-false",
    "collapsed": false,
    "ein.tags": [
     "worksheet-0"
    ]
   },
   "outputs": [],
   "source": [
    "import pprint\n",
    "from sqlalchemy import func, desc\n",
    "from sqlalchemy_schema import *\n",
    "from create_package_database import *\n",
    "session, engine = session_setup()"
   ]
  },
  {
   "cell_type": "code",
   "execution_count": 5,
   "metadata": {
    "autoscroll": "json-false",
    "collapsed": false,
    "ein.tags": [
     "worksheet-0"
    ]
   },
   "outputs": [
    {
     "name": "stdout",
     "output_type": "stream",
     "text": [
      "15897\n",
      "146263\n",
      "0.09803280710409472\n"
     ]
    }
   ],
   "source": [
    "## total fraction of conflicts\n",
    "n_conf = session.query(Package_Function).\\\n",
    "    filter(Package_Function.is_conflict == 1).count()\n",
    "n_no_conf = session.query(Package_Function).\\\n",
    "    filter(Package_Function.is_conflict == 0).count()\n",
    "frac_conf = n_conf / (n_conf + n_no_conf)\n",
    "print(n_conf)\n",
    "print(n_no_conf)\n",
    "print(frac_conf)\n"
   ]
  },
  {
   "cell_type": "code",
   "execution_count": 24,
   "metadata": {
    "autoscroll": "json-false",
    "collapsed": false,
    "ein.tags": [
     "worksheet-0"
    ]
   },
   "outputs": [
    {
     "name": "stdout",
     "output_type": "stream",
     "text": [
      "[('adehabitat', 60, 135),\n",
      " ('pracma', 4447, 133),\n",
      " ('Sleuth2', 5740, 127),\n",
      " ('Sleuth3', 5741, 127),\n",
      " ('VGAM', 6589, 119),\n",
      " ('igraph', 2666, 74),\n",
      " ('QCAGUI', 4587, 72),\n",
      " ('GeneralizedHyperbolic', 2146, 71),\n",
      " ('HyperbolicDist', 2597, 71),\n",
      " ('spatstat', 5910, 71),\n",
      " ('Rcmdr', 4800, 68),\n",
      " ('mosaic', 3586, 67),\n",
      " ('base', 6782, 63),\n",
      " ('adehabitatLT', 63, 59),\n",
      " ('lava', 2969, 58),\n",
      " ('psych', 4545, 58),\n",
      " ('stats', 6805, 55),\n",
      " ('spTDyn', 5976, 53),\n",
      " ('raster', 4750, 52),\n",
      " ('ROptEstOld', 5221, 52)]\n"
     ]
    }
   ],
   "source": [
    "# package with most conflicts\n",
    "top_pkg_conf = session.query(Package_Function,\n",
    "                             func.count(Package_Function.is_conflict)).\\\n",
    "    filter(Package_Function.is_conflict == 1).\\\n",
    "    group_by(Package_Function.package_id).\\\n",
    "    order_by(desc(func.count(Package_Function.is_conflict)))\n",
    "pkg_conf_tuples = top_pkg_conf.all()\n",
    "pkg_counts = [tup[1] for tup in pkg_conf_tuples]\n",
    "pkg_ids = [tup[0].package_id for tup in pkg_conf_tuples]\n",
    "pkg_names = [session.query(Package).\\\n",
    "    filter(Package.package_id == tmp_pkg_id).\\\n",
    "    first().package_name for tmp_pkg_id in pkg_ids]\n",
    "pkg_tuples = list(zip(pkg_names, pkg_ids, pkg_counts))\n",
    "pprint.pprint(pkg_tuples[0:20])\n",
    "# pkg_id = top_pkg_conf.first()[0].package_id\n",
    "# top_pkg_conf_name = session.query(Package).\\\n",
    "#     filter(Package.package_id == pkg_id).\\\n",
    "#     first().package_name\n",
    "# print(top_pkg_conf_name)\n"
   ]
  },
  {
   "cell_type": "code",
   "execution_count": 23,
   "metadata": {
    "autoscroll": "json-false",
    "collapsed": false,
    "ein.tags": [
     "worksheet-0"
    ]
   },
   "outputs": [
    {
     "name": "stdout",
     "output_type": "stream",
     "text": [
      "[('logit', 4371, 35),\n",
      " ('normalize', 3283, 34),\n",
      " ('residuals', 3391, 33),\n",
      " ('fitted', 3374, 31),\n",
      " ('compare', 3153, 29),\n",
      " ('as.matrix', 805, 26),\n",
      " ('distance', 3159, 25),\n",
      " ('kurtosis', 1895, 24),\n",
      " ('bootstrap', 3147, 24),\n",
      " ('size', 325, 23),\n",
      " ('skewness', 1919, 23),\n",
      " ('trim', 5567, 22),\n",
      " ('sim', 4385, 21),\n",
      " ('entropy', 99, 20),\n",
      " ('resample', 5554, 20),\n",
      " ('tr', 34757, 20),\n",
      " ('combine', 679, 19),\n",
      " ('AICc', 2594, 19),\n",
      " ('name', 714, 18),\n",
      " ('map', 2735, 18)]\n"
     ]
    }
   ],
   "source": [
    "# function with most conflicts\n",
    "top_fn_conf = session.query(Package_Function,\n",
    "                             func.count(Package_Function.is_conflict)).\\\n",
    "    filter(Package_Function.is_conflict == 1).\\\n",
    "    group_by(Package_Function.function_id).\\\n",
    "    order_by(desc(func.count(Package_Function.is_conflict)))\n",
    "# fn_id = top_pkg_conf.first()[0].function_id\n",
    "# top_fn_conf_name = session.query(Function).\\\n",
    "#     filter(Function.function_id == fn_id).\\\n",
    "#     first().function_name\n",
    "# print(top_fn_conf_name)\n",
    "fn_conf_tuples = top_fn_conf.all()\n",
    "fn_counts = [tup[1] for tup in fn_conf_tuples]\n",
    "fn_ids = [tup[0].function_id for tup in fn_conf_tuples]\n",
    "fn_names = [session.query(Function).\\\n",
    "    filter(Function.function_id == tmp_fn_id).\\\n",
    "    first().function_name for tmp_fn_id in fn_ids]\n",
    "fn_tuples = list(zip(fn_names, fn_ids, fn_counts))\n",
    "pprint.pprint(fn_tuples[0:20])\n"
   ]
  },
  {
   "cell_type": "code",
   "execution_count": 21,
   "metadata": {
    "autoscroll": "json-false",
    "collapsed": false,
    "ein.tags": [
     "worksheet-0"
    ]
   },
   "outputs": [
    {
     "name": "stdout",
     "output_type": "stream",
     "text": [
      "(<sqlalchemy_schema.Package_Function object at 0x7f502bdb26a0>, 35)\n"
     ]
    }
   ],
   "source": [
    "print(top_fn_conf.first())\n"
   ]
  }
 ],
 "metadata": {
  "kernelspec": {
   "display_name": "Python 3",
   "name": "python3"
  },
  "language_info": {
   "codemirror_mode": {
    "name": "ipython",
    "version": 3
   },
   "file_extension": ".py",
   "mimetype": "text/x-python",
   "name": "python",
   "nbconvert_exporter": "python",
   "pygments_lexer": "ipython3",
   "version": "3.4.3"
  },
  "name": "namespace_analysis_notebook.ipynb"
 },
 "nbformat": 4,
 "nbformat_minor": 0
}
