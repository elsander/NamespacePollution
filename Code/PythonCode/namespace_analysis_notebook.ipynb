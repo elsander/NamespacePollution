{
 "cells": [
  {
   "cell_type": "code",
   "execution_count": 2,
   "metadata": {
    "autoscroll": "json-false",
    "collapsed": false,
    "ein.tags": [
     "worksheet-0"
    ]
   },
   "outputs": [],
   "source": [
    "import pprint\n",
    "from sqlalchemy import func, desc\n",
    "from sqlalchemy_schema import *\n",
    "from create_package_database import *\n",
    "session, engine = session_setup()"
   ]
  },
  {
   "cell_type": "code",
   "execution_count": 3,
   "metadata": {
    "autoscroll": "json-false",
    "collapsed": false,
    "ein.tags": [
     "worksheet-0"
    ]
   },
   "outputs": [
    {
     "name": "stdout",
     "output_type": "stream",
     "text": [
      "15897\n",
      "146263\n",
      "0.09803280710409472\n"
     ]
    }
   ],
   "source": [
    "## total fraction of conflicts\n",
    "n_conf = session.query(Package_Function).\\\n",
    "    filter(Package_Function.is_conflict == 1).count()\n",
    "n_no_conf = session.query(Package_Function).\\\n",
    "    filter(Package_Function.is_conflict == 0).count()\n",
    "frac_conf = n_conf / (n_conf + n_no_conf)\n",
    "print(n_conf)\n",
    "print(n_no_conf)\n",
    "print(frac_conf)\n"
   ]
  },
  {
   "cell_type": "code",
   "execution_count": 4,
   "metadata": {
    "autoscroll": "json-false",
    "collapsed": false,
    "ein.tags": [
     "worksheet-0"
    ]
   },
   "outputs": [
    {
     "name": "stdout",
     "output_type": "stream",
     "text": [
      "[('adehabitat', 60, 135),\n",
      " ('pracma', 4447, 133),\n",
      " ('Sleuth2', 5740, 127),\n",
      " ('Sleuth3', 5741, 127),\n",
      " ('VGAM', 6589, 119),\n",
      " ('igraph', 2666, 74),\n",
      " ('QCAGUI', 4587, 72),\n",
      " ('GeneralizedHyperbolic', 2146, 71),\n",
      " ('HyperbolicDist', 2597, 71),\n",
      " ('spatstat', 5910, 71),\n",
      " ('Rcmdr', 4800, 68),\n",
      " ('mosaic', 3586, 67),\n",
      " ('base', 6782, 63),\n",
      " ('adehabitatLT', 63, 59),\n",
      " ('lava', 2969, 58),\n",
      " ('psych', 4545, 58),\n",
      " ('stats', 6805, 55),\n",
      " ('spTDyn', 5976, 53),\n",
      " ('raster', 4750, 52),\n",
      " ('ROptEstOld', 5221, 52)]\n"
     ]
    }
   ],
   "source": [
    "# package with most conflicts\n",
    "top_pkg_conf = session.query(Package_Function,\n",
    "                             func.count(Package_Function.is_conflict)).\\\n",
    "    filter(Package_Function.is_conflict == 1).\\\n",
    "    group_by(Package_Function.package_id).\\\n",
    "    order_by(desc(func.count(Package_Function.is_conflict)))\n",
    "pkg_conf_tuples = top_pkg_conf.all()\n",
    "pkg_counts = [tup[1] for tup in pkg_conf_tuples]\n",
    "pkg_ids = [tup[0].package_id for tup in pkg_conf_tuples]\n",
    "pkg_names = [session.query(Package).\\\n",
    "    filter(Package.package_id == tmp_pkg_id).\\\n",
    "    first().package_name for tmp_pkg_id in pkg_ids]\n",
    "pkg_tuples = list(zip(pkg_names, pkg_ids, pkg_counts))\n",
    "pprint.pprint(pkg_tuples[0:20])\n",
    "# pkg_id = top_pkg_conf.first()[0].package_id\n",
    "# top_pkg_conf_name = session.query(Package).\\\n",
    "#     filter(Package.package_id == pkg_id).\\\n",
    "#     first().package_name\n",
    "# print(top_pkg_conf_name)\n"
   ]
  },
  {
   "cell_type": "code",
   "execution_count": 5,
   "metadata": {
    "autoscroll": "json-false",
    "collapsed": false,
    "ein.tags": [
     "worksheet-0"
    ]
   },
   "outputs": [
    {
     "name": "stdout",
     "output_type": "stream",
     "text": [
      "[('logit', 4371, 35),\n",
      " ('normalize', 3283, 34),\n",
      " ('residuals', 3391, 33),\n",
      " ('fitted', 3374, 31),\n",
      " ('compare', 3153, 29),\n",
      " ('as.matrix', 805, 26),\n",
      " ('distance', 3159, 25),\n",
      " ('kurtosis', 1895, 24),\n",
      " ('bootstrap', 3147, 24),\n",
      " ('size', 325, 23),\n",
      " ('skewness', 1919, 23),\n",
      " ('trim', 5567, 22),\n",
      " ('sim', 4385, 21),\n",
      " ('entropy', 99, 20),\n",
      " ('resample', 5554, 20),\n",
      " ('tr', 34757, 20),\n",
      " ('combine', 679, 19),\n",
      " ('AICc', 2594, 19),\n",
      " ('name', 714, 18),\n",
      " ('map', 2735, 18)]\n"
     ]
    }
   ],
   "source": [
    "# function with most conflicts\n",
    "top_fn_conf = session.query(Package_Function,\n",
    "                             func.count(Package_Function.is_conflict)).\\\n",
    "    filter(Package_Function.is_conflict == 1).\\\n",
    "    group_by(Package_Function.function_id).\\\n",
    "    order_by(desc(func.count(Package_Function.is_conflict)))\n",
    "# fn_id = top_pkg_conf.first()[0].function_id\n",
    "# top_fn_conf_name = session.query(Function).\\\n",
    "#     filter(Function.function_id == fn_id).\\\n",
    "#     first().function_name\n",
    "# print(top_fn_conf_name)\n",
    "fn_conf_tuples = top_fn_conf.all()\n",
    "fn_counts = [tup[1] for tup in fn_conf_tuples]\n",
    "fn_ids = [tup[0].function_id for tup in fn_conf_tuples]\n",
    "fn_names = [session.query(Function).\\\n",
    "    filter(Function.function_id == tmp_fn_id).\\\n",
    "    first().function_name for tmp_fn_id in fn_ids]\n",
    "fn_tuples = list(zip(fn_names, fn_ids, fn_counts))\n",
    "pprint.pprint(fn_tuples[0:20])\n"
   ]
  },
  {
   "cell_type": "code",
   "execution_count": 11,
   "metadata": {
    "autoscroll": "json-false",
    "collapsed": true,
    "ein.tags": [
     "worksheet-0"
    ]
   },
   "outputs": [
    {
     "name": "stdout",
     "output_type": "stream",
     "text": [
      "'as.matrix',\n",
      " 'labels',\n",
      " 'beta',\n",
      " 'ncol',\n",
      " 'norm',\n",
      " 'max',\n",
      " 'min',\n",
      " 'prod',\n",
      " 'range',\n",
      " 'sum',\n",
      " 'scale.default',\n",
      " 'table',\n",
      " 'rbind',\n",
      " 'F',\n",
      " 'is.primitive',\n",
      " 'print.default',\n",
      " 'mode',\n",
      " 'merge.data.frame',\n",
      " 'message',\n",
      " 'format.pval',\n",
      " 'round.POSIXt',\n",
      " 'trunc.POSIXt',\n",
      " 'debug',\n",
      " 'dir.exists',\n",
      " 'as.difftime',\n",
      " 'gregexpr',\n",
      " 'trimws',\n",
      " 'Recall',\n",
      " 'single',\n",
      " 'print.function',\n",
      " 'rbind.data.frame',\n",
      " 'atan2',\n",
      " 'exp',\n",
      " 'log',\n",
      " 'sqrt',\n",
      " 'isNamespaceLoaded',\n",
      " 'acosh',\n",
      " 'atan',\n",
      " 'atanh',\n",
      " 'cos',\n",
      " 'cosh',\n",
      " 'gamma',\n",
      " 'log1p',\n",
      " 'log2',\n",
      " 'logb',\n",
      " 'round',\n",
      " 'sin',\n",
      " 'sinh',\n",
      " 'tan',\n",
      " 'tanh',\n",
      " 'trunc',\n",
      " 'cat',\n",
      " 'readline',\n",
      " 'scan',\n",
      " 'arrayInd',\n",
      " 'I',\n",
      " 'identity',\n",
      " 'list.dirs',\n",
      " 'anyDuplicated.matrix',\n",
      " 'as.Date.numeric',\n",
      " 'det',\n",
      " 'duplicated.matrix',\n",
      " 'unique.matrix']\n"
     ]
    },
    {
     "name": "stdout",
     "output_type": "stream",
     "text": [
      "63\n",
      "["
     ]
    }
   ],
   "source": [
    "base_id = session.query(Package).filter(Package.package_name == 'base').first().package_id\n",
    "base_conf = session.query(Package_Function).filter(Package_Function.package_id == base_id).filter(Package_Function.is_conflict == 1)\n",
    "print(base_conf.count())\n",
    "base_fns = [b.function_id for b in base_conf.all()]\n",
    "base_fn_names = [session.query(Function).filter(Function.function_id == b).first().function_name for b in base_fns]\n",
    "pprint.pprint(base_fn_names)\n"
   ]
  },
  {
   "cell_type": "code",
   "execution_count": 12,
   "metadata": {
    "autoscroll": "json-false",
    "collapsed": false,
    "ein.tags": [
     "worksheet-0"
    ]
   },
   "outputs": [
    {
     "name": "stdout",
     "output_type": "stream",
     "text": [
      "['haplotypes',\n",
      " 'multivator',\n",
      " 'neuroim',\n",
      " 'objectProperties',\n",
      " 'penalized',\n",
      " 'PivotalR',\n",
      " 'RadOnc',\n",
      " 'rbamtools',\n",
      " 'simecol',\n",
      " 'SOUP',\n",
      " 'timeSeries',\n",
      " 'ycinterextra',\n",
      " 'base']\n"
     ]
    }
   ],
   "source": [
    "## I remember as.list being a conflict for one specific package. I want to look for this issue.\n",
    "list_id = session.query(Function).filter(Function.function_name == \"as.list\").first().function_id\n",
    "list_pkgs = session.query(Package_Function).filter(Package_Function.function_id == list_id).all()\n",
    "list_pkg_ids = [l.package_id for l in list_pkgs]\n",
    "list_pkg_names = [session.query(Package).filter(Package.package_id == l).first().package_name for l in list_pkg_ids]\n",
    "pprint.pprint(list_pkg_names)\n"
   ]
  }
 ],
 "metadata": {
  "kernelspec": {
   "display_name": "Python 3",
   "name": "python3"
  },
  "language_info": {
   "codemirror_mode": {
    "name": "ipython",
    "version": 3
   },
   "file_extension": ".py",
   "mimetype": "text/x-python",
   "name": "python",
   "nbconvert_exporter": "python",
   "pygments_lexer": "ipython3",
   "version": "3.4.3"
  },
  "name": "namespace_analysis_notebook.ipynb"
 },
 "nbformat": 4,
 "nbformat_minor": 0
}
